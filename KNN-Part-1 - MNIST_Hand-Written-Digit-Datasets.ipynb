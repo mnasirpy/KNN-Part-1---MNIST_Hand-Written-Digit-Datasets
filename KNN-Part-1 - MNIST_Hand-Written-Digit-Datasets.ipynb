{
 "cells": [
  {
   "cell_type": "markdown",
   "metadata": {},
   "source": [
    "# KNN-Part-1 - MNIST_Hand-Written-Digit-Datasets"
   ]
  },
  {
   "cell_type": "code",
   "execution_count": 71,
   "metadata": {},
   "outputs": [],
   "source": [
    "# importing the dataset digits from sklearn\n",
    "# from sklearn.datasets import load_digits\n",
    "# digits = load_digits()\n",
    "#pip install python-mnist\n",
    "import os\n",
    "from mnist import MNIST\n",
    "import numpy as np\n",
    "import matplotlib.pyplot as plt\n",
    "import struct\n",
    "from PIL import Image\n"
   ]
  },
  {
   "cell_type": "code",
   "execution_count": 122,
   "metadata": {},
   "outputs": [
    {
     "name": "stdout",
     "output_type": "stream",
     "text": [
      "C:\\Users\\NITB\\Downloads\n",
      "Images shape: (60000, 784)\n",
      "Labels shape: (60000,)\n"
     ]
    }
   ],
   "source": [
    "current_directory = os.getcwd()\n",
    "print(current_directory)\n",
    "#mndata = MNIST('./MNISTDataset')\n",
    "mndata = MNIST('./dataset/train-images-idx3-ubyte')\n",
    "images, labels = mndata.load_training()\n",
    "\n",
    "# images_array = np.array(images)\n",
    "# labels_array = np.array(labels)\n",
    "\n",
    "data = np.array(images)\n",
    "target = np.array(labels)\n",
    "\n",
    "print(\"Images shape:\", data.shape)\n",
    "print(\"Labels shape:\", target.shape)\n",
    "\n",
    "\n",
    "#print(type (images.jpg))\n"
   ]
  },
  {
   "cell_type": "code",
   "execution_count": 108,
   "metadata": {},
   "outputs": [
    {
     "name": "stdout",
     "output_type": "stream",
     "text": [
      "[  0   0   0   0   0   0   0   0   0   0   0   0   0   0   0   0   0   0\n",
      "   0   0   0   0   0   0   0   0   0   0   0   0   0   0   0   0   0   0\n",
      "   0   0   0   0   0   0   0   0   0   0   0   0   0   0   0   0   0   0\n",
      "   0   0   0   0   0   0   0   0   0   0   0   0   0   0   0   0   0   0\n",
      "   0   0   0   0   0   0   0   0   0   0   0   0   0   0   0   0   0   0\n",
      "   0   0   0   0   0   0   0   0   0   0   0   0   0   0   0   0   0   0\n",
      "   0   0   0   0   0   0   0   0   0   0   0   0   0   0   0   0   0   0\n",
      "   0   0   0   0   0   0   0   0   0   0   0   0   0   0   0   0   0   0\n",
      "   0   0   0   0   0   0   0   0   0   0   0   0   0   0   0   0   0   0\n",
      "   0   0   0   0   0   0   0   0   0   0   0   0   0   0   0   0   0   0\n",
      "   0   0   0   0  38  48  48  22   0   0   0   0   0   0   0   0   0   0\n",
      "   0   0   0   0   0   0   0   0   0   0   0  62  97 198 243 254 254 212\n",
      "  27   0   0   0   0   0   0   0   0   0   0   0   0   0   0   0   0   0\n",
      "   0   0  67 172 254 254 225 218 218 237 248  40   0  21 164 187   0   0\n",
      "   0   0   0   0   0   0   0   0   0   0   0  89 219 254  97  67  14   0\n",
      "   0  92 231 122  23 203 236  59   0   0   0   0   0   0   0   0   0   0\n",
      "   0   0  25 217 242  92   4   0   0   0   0   4 147 253 240 232  92   0\n",
      "   0   0   0   0   0   0   0   0   0   0   0   0 101 255  92   0   0   0\n",
      "   0   0   0 105 254 254 177  11   0   0   0   0   0   0   0   0   0   0\n",
      "   0   0   0   0 167 244  41   0   0   0   7  76 199 238 239  94  10   0\n",
      "   0   0   0   0   0   0   0   0   0   0   0   0   0   0 192 121   0   0\n",
      "   2  63 180 254 233 126   0   0   0   0   0   0   0   0   0   0   0   0\n",
      "   0   0   0   0   0   0 190 196  14   2  97 254 252 146  52   0   0   0\n",
      "   0   0   0   0   0   0   0   0   0   0   0   0   0   0   0   0 130 225\n",
      "  71 180 232 181  60   0   0   0   0   0   0   0   0   0   0   0   0   0\n",
      "   0   0   0   0   0   0   0   0 130 254 254 230  46   0   0   0   0   0\n",
      "   0   0   0   0   0   0   0   0   0   0   0   0   0   0   0   0   6  77\n",
      " 244 254 162   4   0   0   0   0   0   0   0   0   0   0   0   0   0   0\n",
      "   0   0   0   0   0   0   0   0 110 254 218 254 116   0   0   0   0   0\n",
      "   0   0   0   0   0   0   0   0   0   0   0   0   0   0   0   0   0 131\n",
      " 254 154  28 213  86   0   0   0   0   0   0   0   0   0   0   0   0   0\n",
      "   0   0   0   0   0   0   0   0  66 209 153  19  19 233  60   0   0   0\n",
      "   0   0   0   0   0   0   0   0   0   0   0   0   0   0   0   0   0   0\n",
      " 142 254 165   0  14 216 167   0   0   0   0   0   0   0   0   0   0   0\n",
      "   0   0   0   0   0   0   0   0   0   0  90 254 175   0  18 229  92   0\n",
      "   0   0   0   0   0   0   0   0   0   0   0   0   0   0   0   0   0   0\n",
      "   0   0  26 229 249 176 222 244  44   0   0   0   0   0   0   0   0   0\n",
      "   0   0   0   0   0   0   0   0   0   0   0   0   0  73 193 197 134   0\n",
      "   0   0   0   0   0   0   0   0   0   0   0   0   0   0   0   0   0   0\n",
      "   0   0   0   0   0   0   0   0   0   0   0   0   0   0   0   0   0   0\n",
      "   0   0   0   0   0   0   0   0   0   0   0   0   0   0   0   0   0   0\n",
      "   0   0   0   0   0   0   0   0   0   0   0   0   0   0   0   0   0   0\n",
      "   0   0   0   0   0   0   0   0   0   0   0   0   0   0   0   0   0   0\n",
      "   0   0   0   0   0   0   0   0   0   0]\n"
     ]
    }
   ],
   "source": [
    "first_image = data[59999,:]\n",
    "print(first_image)"
   ]
  },
  {
   "cell_type": "code",
   "execution_count": 109,
   "metadata": {},
   "outputs": [
    {
     "data": {
      "text/plain": [
       "<matplotlib.image.AxesImage at 0x243221a8b50>"
      ]
     },
     "execution_count": 109,
     "metadata": {},
     "output_type": "execute_result"
    },
    {
     "data": {
      "image/png": "[encoded data removed]",
      "text/plain": [
       "<Figure size 1000x400 with 1 Axes>"
      ]
     },
     "metadata": {},
     "output_type": "display_data"
    }
   ],
   "source": [
    "plt.figure(figsize=(10,4))\n",
    "plt.imshow(np.reshape(first_image, (28,28)), cmap=plt.cm.gray)"
   ]
  },
  {
   "cell_type": "code",
   "execution_count": 23,
   "metadata": {},
   "outputs": [],
   "source": [
    "from sklearn.model_selection import train_test_split\n",
    "X_train, X_test, y_train, y_test = train_test_split(data, target, test_size=0.2, random_state=42)"
   ]
  },
  {
   "cell_type": "code",
   "execution_count": 119,
   "metadata": {
    "scrolled": true
   },
   "outputs": [
    {
     "name": "stdout",
     "output_type": "stream",
     "text": [
      "C:\\Users\\NITB\\Downloads\n",
      "Files saved successfully. Closing files...\n",
      "Updated Images Shape: (60000, 784)\n",
      "Updated Labels Shape: (60000,)\n",
      "Appended Image Label: 8\n",
      "Appended Image Data: [0, 0, 0, 0, 0, 0, 0, 0, 0, 0, 0, 0, 0, 0, 0, 0, 0, 0, 0, 0, 0, 0, 0, 0, 0, 0, 0, 0, 0, 0, 0, 0, 0, 0, 0, 0, 0, 0, 0, 0, 0, 0, 0, 0, 0, 0, 0, 0, 0, 0, 0, 0, 0, 0, 0, 0, 0, 0, 0, 0, 0, 0, 0, 0, 0, 0, 0, 0, 0, 0, 0, 0, 0, 0, 0, 0, 0, 0, 0, 0, 0, 0, 0, 0, 0, 0, 0, 0, 0, 0, 0, 0, 0, 0, 0, 0, 0, 0, 0, 0, 0, 0, 0, 0, 0, 0, 0, 0, 0, 0, 0, 0, 0, 0, 0, 0, 0, 0, 0, 0, 0, 0, 0, 0, 0, 0, 0, 0, 0, 0, 0, 0, 0, 0, 0, 0, 0, 0, 0, 0, 0, 0, 0, 0, 0, 0, 0, 0, 0, 0, 0, 0, 0, 0, 0, 0, 0, 0, 0, 0, 0, 0, 0, 0, 0, 0, 0, 0, 0, 0, 0, 0, 0, 0, 0, 0, 0, 0, 0, 0, 0, 0, 0, 0, 38, 48, 48, 22, 0, 0, 0, 0, 0, 0, 0, 0, 0, 0, 0, 0, 0, 0, 0, 0, 0, 0, 0, 0, 0, 62, 97, 198, 243, 254, 254, 212, 27, 0, 0, 0, 0, 0, 0, 0, 0, 0, 0, 0, 0, 0, 0, 0, 0, 0, 0, 0, 67, 172, 254, 254, 225, 218, 218, 237, 248, 40, 0, 21, 164, 187, 0, 0, 0, 0, 0, 0, 0, 0, 0, 0, 0, 0, 0, 89, 219, 254, 97, 67, 14, 0, 0, 92, 231, 122, 23, 203, 236, 59, 0, 0, 0, 0, 0, 0, 0, 0, 0, 0, 0, 0, 25, 217, 242, 92, 4, 0, 0, 0, 0, 4, 147, 253, 240, 232, 92, 0, 0, 0, 0, 0, 0, 0, 0, 0, 0, 0, 0, 0, 101, 255, 92, 0, 0, 0, 0, 0, 0, 105, 254, 254, 177, 11, 0, 0, 0, 0, 0, 0, 0, 0, 0, 0, 0, 0, 0, 0, 167, 244, 41, 0, 0, 0, 7, 76, 199, 238, 239, 94, 10, 0, 0, 0, 0, 0, 0, 0, 0, 0, 0, 0, 0, 0, 0, 0, 192, 121, 0, 0, 2, 63, 180, 254, 233, 126, 0, 0, 0, 0, 0, 0, 0, 0, 0, 0, 0, 0, 0, 0, 0, 0, 0, 0, 190, 196, 14, 2, 97, 254, 252, 146, 52, 0, 0, 0, 0, 0, 0, 0, 0, 0, 0, 0, 0, 0, 0, 0, 0, 0, 0, 0, 130, 225, 71, 180, 232, 181, 60, 0, 0, 0, 0, 0, 0, 0, 0, 0, 0, 0, 0, 0, 0, 0, 0, 0, 0, 0, 0, 0, 130, 254, 254, 230, 46, 0, 0, 0, 0, 0, 0, 0, 0, 0, 0, 0, 0, 0, 0, 0, 0, 0, 0, 0, 0, 0, 6, 77, 244, 254, 162, 4, 0, 0, 0, 0, 0, 0, 0, 0, 0, 0, 0, 0, 0, 0, 0, 0, 0, 0, 0, 0, 0, 0, 110, 254, 218, 254, 116, 0, 0, 0, 0, 0, 0, 0, 0, 0, 0, 0, 0, 0, 0, 0, 0, 0, 0, 0, 0, 0, 0, 131, 254, 154, 28, 213, 86, 0, 0, 0, 0, 0, 0, 0, 0, 0, 0, 0, 0, 0, 0, 0, 0, 0, 0, 0, 0, 0, 66, 209, 153, 19, 19, 233, 60, 0, 0, 0, 0, 0, 0, 0, 0, 0, 0, 0, 0, 0, 0, 0, 0, 0, 0, 0, 0, 0, 142, 254, 165, 0, 14, 216, 167, 0, 0, 0, 0, 0, 0, 0, 0, 0, 0, 0, 0, 0, 0, 0, 0, 0, 0, 0, 0, 0, 90, 254, 175, 0, 18, 229, 92, 0, 0, 0, 0, 0, 0, 0, 0, 0, 0, 0, 0, 0, 0, 0, 0, 0, 0, 0, 0, 0, 26, 229, 249, 176, 222, 244, 44, 0, 0, 0, 0, 0, 0, 0, 0, 0, 0, 0, 0, 0, 0, 0, 0, 0, 0, 0, 0, 0, 0, 73, 193, 197, 134, 0, 0, 0, 0, 0, 0, 0, 0, 0, 0, 0, 0, 0, 0, 0, 0, 0, 0, 0, 0, 0, 0, 0, 0, 0, 0, 0, 0, 0, 0, 0, 0, 0, 0, 0, 0, 0, 0, 0, 0, 0, 0, 0, 0, 0, 0, 0, 0, 0, 0, 0, 0, 0, 0, 0, 0, 0, 0, 0, 0, 0, 0, 0, 0, 0, 0, 0, 0, 0, 0, 0, 0, 0, 0, 0, 0, 0, 0, 0, 0, 0, 0, 0, 0, 0, 0, 0, 0, 0, 0, 0, 0, 0, 0, 0, 0, 0, 0, 0, 0, 0]\n"
     ]
    }
   ],
   "source": [
    "#####@# this cell code runs without error\n",
    "\n",
    "from PIL import Image\n",
    "# import numpy as np\n",
    "# import struct\n",
    "# import os\n",
    "\n",
    "# Load the existing MNIST dataset\n",
    "current_directory = os.getcwd()\n",
    "print(current_directory)\n",
    "#mndata = MNIST('./MNISTDataset')\n",
    "mndata = MNIST('./dataset/train-images-idx3-ubyte')\n",
    "images, labels = mndata.load_training()\n",
    "\n",
    "# images_array = np.array(images)\n",
    "# labels_array = np.array(labels)\n",
    "\n",
    "data = np.array(images)\n",
    "target = np.array(labels)\n",
    "\n",
    "# Load and preprocess your custom image\n",
    "img = Image.open(\"test4.png\")\n",
    "img = img.resize((28, 28))\n",
    "lum_img = 255 - np.array(img.convert('L'))\n",
    "your_image_label = 5\n",
    "your_image = lum_img.flatten()\n",
    "\n",
    "# Convert the image and label to bytes\n",
    "your_image_bytes = your_image.astype(np.uint8).tobytes()\n",
    "your_label_byte = your_image_label.to_bytes(1, byteorder='big')\n",
    "\n",
    "#Append your image and label data to the original MNIST data\n",
    "# new_images = np.concatenate((images, [your_image]), axis=0)\n",
    "# new_labels = np.concatenate((labels, [your_image_label]), axis=0)\n",
    "\n",
    "new_images = np.append(images, [your_image], axis=0)\n",
    "new_labels = np.append(labels, your_image_label)  # Append label\n",
    "\n",
    "new_images = new_images.reshape((-1, 28 * 28))\n",
    "\n",
    "# new_images = np.vstack((images, your_image))  # Append vertically\n",
    "# new_labels = np.append(labels, your_image_label)  # Append label\n",
    "# # wb, rb+\n",
    "\n",
    "\n",
    "new_images_bytes = new_images.astype(np.uint8).tobytes()\n",
    "new_labels_bytes = new_labels.astype(np.uint8).tobytes()\n",
    "\n",
    "\n",
    "\n",
    "# Save the new images and labels to IDX files\n",
    "def save_idx_file(images, labels, images_path, labels_path):\n",
    "    with open(images_path, 'ab+') as images_file:\n",
    "        images_file.write(struct.pack('>4i', 0x00000803, len(images), 28, 28))\n",
    "        images_file.write(images)\n",
    "        images_file.flush() \n",
    "\n",
    "    with open(labels_path, 'ab+') as labels_file:\n",
    "        labels_file.write(struct.pack('>2i', 0x00000801, len(labels)))\n",
    "        labels_file.write(labels)\n",
    "        labels_file.flush()\n",
    "\n",
    "# Define paths for saving the custom data\n",
    "# custom_images_path = './dataset/train-images.idx3-ubyte'\n",
    "# custom_labels_path = './dataset/train-labels.idx1-ubyte'\n",
    "\n",
    "# custom_images_path = './dataset/train-images-idx3-ubyte/train-images-idx3-ubyte.idx3-ubyte'\n",
    "# custom_labels_path = './dataset/train-labels-idx1-ubyte/train-labels-idx1-ubyte.idx1-ubyte'\n",
    "\n",
    "# custom_images_path = os.path.join(current_directory, 'dataset', 'train-images-idx3-ubyte', 'train-images-idx3-ubyte')\n",
    "# custom_labels_path = os.path.join(current_directory, 'dataset', 'train-labels-idx1-ubyte', 'train-labels-idx1-ubyte')\n",
    "# print (custom_images_path)\n",
    "\n",
    "custom_images_path = './dataset/train-images-idx3-ubyte/train-images-idx3-ubyte'\n",
    "custom_labels_path = './dataset/train-labels-idx1-ubyte/train-labels-idx1-ubyte'\n",
    "\n",
    "\n",
    "# Save the custom images and labels to IDX files\n",
    "save_idx_file(your_image_bytes, your_label_byte, custom_images_path, custom_labels_path)\n",
    "print(\"Files saved successfully. Closing files...\")\n",
    "\n",
    "# Load the updated MNIST dataset\n",
    "mndata_updated = MNIST('./dataset/train-images-idx3-ubyte')\n",
    "updated_images, updated_labels = mndata_updated.load_training()\n",
    "\n",
    "data = np.array(updated_images)\n",
    "target = np.array(updated_labels)\n",
    "# Print the updated shape\n",
    "print(\"Updated Images Shape:\", data.shape)\n",
    "print(\"Updated Labels Shape:\", target.shape)\n",
    "\n",
    "\n",
    "appended_image_position = len(images) #+ 1  # Assuming 1-based indexing\n",
    "appended_image = images[appended_image_position-1]\n",
    "appended_label = labels[appended_image_position-1]\n",
    "\n",
    "print(f\"Appended Image Label: {appended_label}\")\n",
    "print(f\"Appended Image Data: {appended_image}\")\n",
    "\n",
    "#first_image = data[0,:]\n",
    "# for element in target:\n",
    "#     first_image = element #target[0]\n",
    "#     print(first_image)\n",
    "\n",
    "\n",
    "# plt.figure(figsize=(10,4))\n",
    "# plt.imshow(np.reshape(first_image, (28,28)), cmap=plt.cm.gray)"
   ]
  },
  {
   "cell_type": "code",
   "execution_count": 32,
   "metadata": {},
   "outputs": [
    {
     "ename": "TypeError",
     "evalue": "a bytes-like object is required, not 'list'",
     "output_type": "error",
     "traceback": [
      "\u001b[1;31m---------------------------------------------------------------------------\u001b[0m",
      "\u001b[1;31mTypeError\u001b[0m                                 Traceback (most recent call last)",
      "Cell \u001b[1;32mIn[32], line 44\u001b[0m\n\u001b[0;32m     42\u001b[0m custom_labels_path \u001b[38;5;241m=\u001b[39m \u001b[38;5;124m'\u001b[39m\u001b[38;5;124m./dataset/train-labels.idx1-ubyte\u001b[39m\u001b[38;5;124m'\u001b[39m\n\u001b[0;32m     43\u001b[0m \u001b[38;5;66;03m#custom_labels_path = os.path.join(mnist_path, 'train-labels.idx1-ubyte')\u001b[39;00m\n\u001b[1;32m---> 44\u001b[0m \u001b[43msave_idx_file\u001b[49m\u001b[43m(\u001b[49m\u001b[43mimages\u001b[49m\u001b[43m,\u001b[49m\u001b[43m \u001b[49m\u001b[43mlabels\u001b[49m\u001b[43m,\u001b[49m\u001b[43m \u001b[49m\u001b[43mcustom_images_path\u001b[49m\u001b[43m,\u001b[49m\u001b[43m \u001b[49m\u001b[43mcustom_labels_path\u001b[49m\u001b[43m)\u001b[49m\n",
      "Cell \u001b[1;32mIn[32], line 31\u001b[0m, in \u001b[0;36msave_idx_file\u001b[1;34m(images, labels, images_path, labels_path)\u001b[0m\n\u001b[0;32m     29\u001b[0m \u001b[38;5;28;01mwith\u001b[39;00m \u001b[38;5;28mopen\u001b[39m(images_path, \u001b[38;5;124m'\u001b[39m\u001b[38;5;124mwb\u001b[39m\u001b[38;5;124m'\u001b[39m) \u001b[38;5;28;01mas\u001b[39;00m images_file:\n\u001b[0;32m     30\u001b[0m     images_file\u001b[38;5;241m.\u001b[39mwrite(struct\u001b[38;5;241m.\u001b[39mpack(\u001b[38;5;124m'\u001b[39m\u001b[38;5;124m>4i\u001b[39m\u001b[38;5;124m'\u001b[39m, \u001b[38;5;241m0x00000803\u001b[39m, \u001b[38;5;28mlen\u001b[39m(images), \u001b[38;5;241m28\u001b[39m, \u001b[38;5;241m28\u001b[39m))\n\u001b[1;32m---> 31\u001b[0m     \u001b[43mimages_file\u001b[49m\u001b[38;5;241;43m.\u001b[39;49m\u001b[43mwrite\u001b[49m\u001b[43m(\u001b[49m\u001b[43mimages\u001b[49m\u001b[43m)\u001b[49m\n\u001b[0;32m     33\u001b[0m \u001b[38;5;28;01mwith\u001b[39;00m \u001b[38;5;28mopen\u001b[39m(labels_path, \u001b[38;5;124m'\u001b[39m\u001b[38;5;124mwb\u001b[39m\u001b[38;5;124m'\u001b[39m) \u001b[38;5;28;01mas\u001b[39;00m labels_file:\n\u001b[0;32m     34\u001b[0m     labels_file\u001b[38;5;241m.\u001b[39mwrite(struct\u001b[38;5;241m.\u001b[39mpack(\u001b[38;5;124m'\u001b[39m\u001b[38;5;124m>2i\u001b[39m\u001b[38;5;124m'\u001b[39m, \u001b[38;5;241m0x00000801\u001b[39m, \u001b[38;5;28mlen\u001b[39m(labels)))\n",
      "\u001b[1;31mTypeError\u001b[0m: a bytes-like object is required, not 'list'"
     ]
    },
    {
     "data": {
      "image/png": "[encoded data removed]",
      "text/plain": [
       "<Figure size 640x480 with 1 Axes>"
      ]
     },
     "metadata": {},
     "output_type": "display_data"
    },
    {
     "data": {
      "image/png": "[encoded data removed]",
      "text/plain": [
       "<Figure size 1000x400 with 1 Axes>"
      ]
     },
     "metadata": {},
     "output_type": "display_data"
    }
   ],
   "source": [
    "# ading my images\n",
    "from PIL import Image\n",
    "img=Image.open(\"test4.png\")\n",
    "img=img.resize((28,28))\n",
    "imgplot=plt.imshow(img)\n",
    "\n",
    "img_array=np.array(img)\n",
    "lum_img=img_array[:,:,0]\n",
    "lum_img=255-lum_img\n",
    "lum_img=lum_img.reshape(1,-1)\n",
    "lum_img\n",
    "\n",
    "plt.figure(figsize=(10,4))\n",
    "plt.imshow(np.reshape(lum_img, (28,28)), cmap=plt.cm.gray)\n",
    "your_image_label = 5\n",
    "your_image = np.array(lum_img).flatten()\n",
    "\n",
    "\n",
    "# Convert the image and label to bytes\n",
    "your_image_bytes = your_image.astype(np.uint8).tobytes()\n",
    "your_label_byte = your_image_label.to_bytes(1, byteorder='big')\n",
    "\n",
    "# Append your image and label data to the original MNIST data\n",
    "new_images = np.concatenate((images, [your_image]), axis=0)\n",
    "new_labels = np.concatenate((labels, [your_image_label]), axis=0)\n",
    "\n",
    "# Save the new images and labels to IDX files\n",
    "def save_idx_file(images, labels, images_path, labels_path):\n",
    "    with open(images_path, 'wb') as images_file:\n",
    "        images_file.write(struct.pack('>4i', 0x00000803, len(images), 28, 28))\n",
    "        images_file.write(images)\n",
    "\n",
    "    with open(labels_path, 'wb') as labels_file:\n",
    "        labels_file.write(struct.pack('>2i', 0x00000801, len(labels)))\n",
    "        labels_file.write(labels)\n",
    "        \n",
    "        \n",
    "        \n",
    "mnist_path = './dataset'\n",
    "#custom_images_path = os.path.join(mnist_path, 'train-images.idx3-ubyte')\n",
    "custom_images_path = './dataset/train-images.idx3-ubyte'\n",
    "custom_labels_path = './dataset/train-labels.idx1-ubyte'\n",
    "#custom_labels_path = os.path.join(mnist_path, 'train-labels.idx1-ubyte')\n",
    "save_idx_file(images, labels, custom_images_path, custom_labels_path)\n",
    "\n",
    "#print(\"Your image and label added to the dataset.\")\n",
    "\n",
    "# your_images = np.array([your_image])\n",
    "# your_labels = np.array([your_image_label])\n",
    "\n",
    "# # Append your image and label to the existing MNIST dataset\n",
    "# combined_images = np.concatenate((images, your_images), axis=0)\n",
    "# combined_labels = np.concatenate((labels, your_labels), axis=0)\n",
    "\n",
    "# mndata.save_images_and_labels('./dataset/train-images-idx3-ubyte', combined_images, combined_labels, len(combined_images))\n",
    "\n",
    "# print(\"Your image and label added to the dataset.\")\n"
   ]
  },
  {
   "cell_type": "code",
   "execution_count": null,
   "metadata": {},
   "outputs": [],
   "source": [
    "# import numpy and matplotlib\n",
    "import numpy as np\n",
    "import matplotlib.pyplot as plt"
   ]
  },
  {
   "cell_type": "code",
   "execution_count": null,
   "metadata": {},
   "outputs": [],
   "source": [
    "print(\"Image Dataset\", digits.data.shape)"
   ]
  },
  {
   "cell_type": "code",
   "execution_count": null,
   "metadata": {},
   "outputs": [],
   "source": [
    "first_image = digits.data[0,:]"
   ]
  },
  {
   "cell_type": "code",
   "execution_count": null,
   "metadata": {},
   "outputs": [],
   "source": [
    "x = digits.data\n",
    "type (x)"
   ]
  },
  {
   "cell_type": "code",
   "execution_count": null,
   "metadata": {},
   "outputs": [],
   "source": [
    "# print first image\n",
    "print(first_image)"
   ]
  },
  {
   "cell_type": "code",
   "execution_count": null,
   "metadata": {},
   "outputs": [],
   "source": [
    "plt.figure(figsize=(10,4))\n",
    "plt.imshow(np.reshape(first_image, (8,8)), cmap=plt.cm.gray)"
   ]
  },
  {
   "cell_type": "markdown",
   "metadata": {},
   "source": [
    "# Visualizing Dataset"
   ]
  },
  {
   "cell_type": "code",
   "execution_count": null,
   "metadata": {},
   "outputs": [],
   "source": [
    "plt.figure(figsize=(30,7))\n",
    "for index, (image, label) in enumerate(zip(digits.data[0:5], digits.target[0:5])):\n",
    "    plt.subplot(1, 5, index + 1)\n",
    "    plt.imshow(np.reshape(image, (8,8)), cmap=plt.cm.gray)\n",
    "    plt.title('Training: %i\\n' % label, fontsize = 40)"
   ]
  },
  {
   "cell_type": "markdown",
   "metadata": {},
   "source": [
    "# Spliting Dataset"
   ]
  },
  {
   "cell_type": "code",
   "execution_count": null,
   "metadata": {},
   "outputs": [],
   "source": [
    "# spliting dataset\n",
    "from sklearn.model_selection import train_test_split\n",
    "X_train, X_test, y_train, y_test = train_test_split(digits.data, digits.target, test_size=0.2, random_state=42)"
   ]
  },
  {
   "cell_type": "code",
   "execution_count": null,
   "metadata": {},
   "outputs": [],
   "source": [
    "# print the shape of x_train\n",
    "print(X_train.shape)"
   ]
  },
  {
   "cell_type": "code",
   "execution_count": null,
   "metadata": {},
   "outputs": [],
   "source": [
    "# print the shape of x_test\n",
    "print(X_test.shape)"
   ]
  },
  {
   "cell_type": "code",
   "execution_count": null,
   "metadata": {},
   "outputs": [],
   "source": [
    "# checking shape of y_test\n",
    "y_test.shape"
   ]
  },
  {
   "cell_type": "markdown",
   "metadata": {},
   "source": [
    "# Checking which k size has least error"
   ]
  },
  {
   "cell_type": "code",
   "execution_count": null,
   "metadata": {},
   "outputs": [],
   "source": [
    "# #finding error \n",
    "# #this is absolute ok code and be used at the initial stage to determine which k has minimum value and that k be used\n",
    "# error = []\n",
    "# for i in range(1,30):\n",
    "#     #print (i)\n",
    "#     knn = KNN(n_neighbors=i)\n",
    "#     knn.fit(X_train,y_train)\n",
    "#     pred_i = knn.predict(X_test)\n",
    "#     error.append(np.mean(pred_i != y_test))\n",
    "# #print(error)"
   ]
  },
  {
   "cell_type": "markdown",
   "metadata": {},
   "source": [
    "# Training"
   ]
  },
  {
   "cell_type": "code",
   "execution_count": null,
   "metadata": {},
   "outputs": [],
   "source": [
    "# import knnclassifier\n",
    "from sklearn.neighbors import KNeighborsClassifier as KNN\n",
    "\n",
    "from sklearn.naive_bayes import GaussianNB\n",
    "\n",
    "# assgin this model into classifier\n",
    "classifier = KNN(n_neighbors=6)\n",
    "# fit the model\n",
    "classifier.fit(X_train, y_train)\n",
    "\n",
    "NBClassifier=GaussianNB()\n",
    "NBClassifier.fit(X_train, y_train)\n",
    "#prediction\n",
    "y_pred = classifier.predict(X_test)\n",
    "\n",
    "y_pred_NBG = NBClassifier.predict(X_test)"
   ]
  },
  {
   "cell_type": "code",
   "execution_count": null,
   "metadata": {},
   "outputs": [],
   "source": []
  },
  {
   "cell_type": "markdown",
   "metadata": {},
   "source": [
    "# Model Evaluation"
   ]
  },
  {
   "cell_type": "code",
   "execution_count": null,
   "metadata": {},
   "outputs": [],
   "source": [
    "import matplotlib.pyplot as plt\n",
    "import seaborn as sns\n",
    "from sklearn import metrics\n",
    "from sklearn.metrics import mean_squared_error\n",
    "# confusion matrix\n",
    "cm = metrics.confusion_matrix(y_test, y_pred)\n",
    "plt.figure(figsize=(9,9))\n",
    "sns.heatmap(cm, annot=True, fmt=\".3f\", linewidths=.5, square=True, cmap='Pastel1')\n",
    "plt.ylabel('Actual label')\n",
    "plt.xlabel('Predicted label')\n",
    "plt.show()\n",
    "\n",
    "mse=mse=mean_squared_error(y_test,y_pred)\n",
    "print(\"MSE for KNN:\",mse)\n",
    "\n",
    "#for guassioan KB\n",
    "\n",
    "cm = metrics.confusion_matrix(y_test, y_pred_NBG)\n",
    "plt.figure(figsize=(9,9))\n",
    "sns.heatmap(cm, annot=True, fmt=\".3f\", linewidths=.5, square=True, cmap='Pastel1')\n",
    "plt.ylabel('Actual label')\n",
    "plt.xlabel('Predicted label')\n",
    "plt.show()\n",
    "mse=mean_squared_error(y_test,y_pred_NBG)\n",
    "\n",
    "print(\"MSE for Naive Bayes:\",mse)"
   ]
  },
  {
   "cell_type": "markdown",
   "metadata": {},
   "source": [
    "# Compare Error Rate ith the K Value"
   ]
  },
  {
   "cell_type": "code",
   "execution_count": null,
   "metadata": {},
   "outputs": [],
   "source": [
    "# finding error \n",
    "# this is absolute ok code and be used at the initial stage to determine which k has minimum value and that k be used\n",
    "error = []\n",
    "for i in range(1,30):\n",
    "    knn = KNN(n_neighbors=i)\n",
    "    knn.fit(X_train,y_train)\n",
    "    pred_i = knn.predict(X_test)\n",
    "    error.append(np.mean(pred_i != y_test))"
   ]
  },
  {
   "cell_type": "code",
   "execution_count": null,
   "metadata": {},
   "outputs": [],
   "source": [
    "import joblib"
   ]
  },
  {
   "cell_type": "code",
   "execution_count": null,
   "metadata": {},
   "outputs": [],
   "source": [
    "joblib.dump(classifier, 'KNN-digit-classification')"
   ]
  },
  {
   "cell_type": "code",
   "execution_count": null,
   "metadata": {},
   "outputs": [],
   "source": [
    "# plot the comparison of error\n"
   ]
  }
 ],
 "metadata": {
  "kernelspec": {
   "display_name": "Python 3 (ipykernel)",
   "language": "python",
   "name": "python3"
  },
  "language_info": {
   "codemirror_mode": {
    "name": "ipython",
    "version": 3
   },
   "file_extension": ".py",
   "mimetype": "text/x-python",
   "name": "python",
   "nbconvert_exporter": "python",
   "pygments_lexer": "ipython3",
   "version": "3.11.3"
  }
 },
 "nbformat": 4,
 "nbformat_minor": 2
}
